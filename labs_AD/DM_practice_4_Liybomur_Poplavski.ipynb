{
 "cells": [
  {
   "cell_type": "markdown",
   "metadata": {
    "id": "YSxjj4vVNqyC"
   },
   "source": [
    "# **Лабораторна робота 4: Прогнозування даних системи Лоренца та об'єктів Нарендра-Пархтізаратхі за допомогою  моделей машинного навчання**\n",
    "**Всі завдання виконуються індивідуально. Використання запозиченого коду буде оцінюватись в 0 балів.**\n",
    "\n",
    "**Лабораторні роботи де в коді буде використаня КИРИЛИЦІ будуть оцінюватись в 20 балів.**"
   ]
  },
  {
   "cell_type": "markdown",
   "metadata": {
    "id": "dQMfGkiCHsqr"
   },
   "source": [
    "#### **Мета роботи:**\n",
    "\n",
    " Робота з даними, згенерованими системою Лоренца та об'єктами Нарендра-Пархтізаратхі, для передбачення майбутніх значеннь за допомогою  моделей машинного навчання.\n",
    "\n",
    "#### **Система Лоренца:**\n",
    "\n",
    "Система Лоренца описується трьома диференціальними рівняннями:\n",
    "\n",
    "$$\n",
    "\\begin{cases}\n",
    "\\frac{dx}{dt} = \\sigma (y - x) \\\\\n",
    "\\frac{dy}{dt} = x (\\rho - z) - y \\\\\n",
    "\\frac{dz}{dt} = xy - \\beta z\n",
    "\\end{cases}\n",
    "$$\n",
    "\n",
    "де:\n",
    "- $( \\sigma )$ — коефіцієнт Прандтля (зазвичай $ \\sigma = 10 $),\n",
    "- $( \\rho )$ — числовий параметр для турбулентності (зазвичай $ \\rho = 28 $),\n",
    "- $( \\beta )$ — коефіцієнт відношення висоти до довжини (зазвичай $ \\beta = 8/3 $).\n",
    "\n",
    "#### **Об'єкти Нарендра-Пархтізаратхі:**\n",
    "\n",
    "Об'єкти Нарендра-Пархтізаратхі описуються наступними рівняннями:\n",
    "\n",
    "$$\n",
    "\\begin{cases}\n",
    "x_1(t+1) = \\alpha_1 x_1(t) + \\beta_1 x_2(t) + \\gamma_1 x_3(t) + \\delta_1 \\\\\n",
    "x_2(t+1) = \\alpha_2 x_1(t) + \\beta_2 x_2(t) + \\gamma_2 x_3(t) + \\delta_2 \\\\\n",
    "x_3(t+1) = \\alpha_3 x_1(t) + \\beta_3 x_2(t) + \\gamma_3 x_3(t) + \\delta_3\n",
    "\\end{cases}\n",
    "$$\n",
    "\n",
    "де $(\\alpha_i)$, $(\\beta_i)$, $(\\gamma_i)$ і $(\\delta_i)$ — коефіцієнти для кожного з рівнянь.\n",
    "\n",
    "#### **Завдання до лабораторної роботи:**\n",
    "\n",
    "Завдання 1. *Генерація даних:*\n",
    "\n",
    "   1.1 Згенеруйте дані для системи Лоренца з використанням зазначених параметрів. Виробіть не менше ніж 10 000 точок даних.\n",
    "\n",
    "   1.2 Згенеруйте дані для об'єктів Нарендра-Пархтізаратхі, використовуючи різні значення коефіцієнтів $(\\alpha_i)$, $(\\beta_i)$, $(\\gamma_i)$ і $(\\delta_i)$. Виробіть не менше ніж 10 000 точок даних.\n",
    "\n",
    "---\n",
    "Завдання 2. *Підготовка даних:*\n",
    "   \n",
    "   2.1 Розділіть дані на навчальний, валідаційний і тестовий набори. Використовуйте 70% для навчання, 15% для валідації та 15% для тестування.\n",
    "   \n",
    "   2.2 Нормалізуйте дані за допомогою StandardScaler. Убедитесь, що всі дані масштабовані перед навчанням моделей.\n",
    "\n",
    "---\n",
    "Завдання 3. *Моделювання:*\n",
    "   \n",
    "   3.1 Застосуйте наступні моделі машинного навчання:\n",
    "     \n",
    "     - Лінійна регресія\n",
    "     - Дерево рішень\n",
    "     - Случайний ліс (Random Forest)\n",
    "     - Метод опорних векторів (SVM)\n",
    "   \n",
    "   3.2 Для кожної моделі виконайте тренування на навчальному наборі даних.\n",
    "\n",
    "---\n",
    "Завдання 4. *Підбір гіперпараметрів:*\n",
    "   \n",
    "   4.1 Для кожної моделі використовуйте Grid Search для підбору оптимальних гіперпараметрів. Параметри для підбору:\n",
    "     \n",
    "     - Лінійна регресія: (не потребує підбору гіперпараметрів, але перевірте регуляризацію)\n",
    "     - Дерево рішень: `max_depth`, `min_samples_split`, `min_samples_leaf`\n",
    "     - Випадковий ліс: `n_estimators`, `max_depth`, `min_samples_split`, `min_samples_leaf`\n",
    "     - SVM: `C`, `kernel`, `gamma`\n",
    "---\n",
    "Завдання 5. *Оцінка моделей:*\n",
    "   \n",
    "   5.1 Оцініть кожну модель на валідаційному наборі за допомогою середньої квадратичної помилки (MSE) та R².\n",
    "  \n",
    "   5.2 Виконайте фінальну оцінку на тестовому наборі даних.\n",
    "\n",
    "---\n",
    "Завдання 6. *Аналіз результатів:*\n",
    "   \n",
    "   6.1 Порівняйте результати всіх моделей. Створіть таблицю з метриками для кожної моделі.\n",
    "\n",
    "   6.2 Візуалізуйте результати прогнозування для кожної моделі (наприклад, графіки реальних значень проти прогнозованих).\n",
    "\n",
    "---\n",
    "Завдання 7. *Документація та звіт:*\n",
    "   \n",
    "   7.1 Опишіть методику генерації даних, моделювання, підбору гіперпараметрів та оцінки моделей.\n",
    "   \n",
    "   7.2 Підготуйте звіт з результатами, включаючи таблиці, графіки та висновки про найкращу модель.\n",
    "\n",
    "---\n",
    "#### **Інструкції:**\n",
    "\n",
    "1. **Генерація даних:**\n",
    "   Використовуйте бібліотеки `numpy` та `scipy` для генерації даних.\n",
    "\n",
    "2. **Навчання моделей:**\n",
    "   Використовуйте `scikit-learn` для реалізації моделей і налаштування гіперпараметрів.\n",
    "\n",
    "3. **Оцінка моделей:**\n",
    "   Використовуйте функції `mean_squared_error`, `r2_score` з `sklearn.metrics` для оцінки.\n",
    "\n",
    "4. **Візуалізація:**\n",
    "   Для візуалізації використовуйте бібліотеки `matplotlib` та `seaborn`.\n",
    "\n",
    "5. **Документація:**\n",
    "   Оформіть звіт у форматі Jupyter Notebook."
   ]
  },
  {
   "cell_type": "markdown",
   "metadata": {
    "id": "k4nYbsVCg6Cl"
   },
   "source": [
    "## **Додаткова умова до лабораторної роботи 5:**\n",
    "\n",
    "*Для того, щоб отримати оцінку більше 50 балів, Вам необхідно використати якесь з цих рівнянь. Вибір рівняння вібдувається відповідно до Вашого номеру в журналі групи.*\n",
    "\n",
    "\n",
    "**Об'єкти Нарендра-Партхізаратхі (Narendra-Parthasarathy)** — це нелінійні системи управління, які часто використовуються для тестування адаптивних і нелінійних регуляторів. Їх поведінка моделюється нелінійними диференціальними рівняннями, що описують динаміку в часі. Ці рівняння створюють цікаву, нелінійну та хаотичну поведінку системи.\n",
    "\n",
    "### **Нелінійних рівнянь Нарендра-Партхізаратхі:**\n",
    "\n",
    "\n",
    "\n",
    "11. $$\n",
    "\\dot{x}_1 = a_1 \\sin(x_1 x_2) - b_1 x_1\n",
    "$$\n",
    "$$\n",
    "\\dot{x}_2 = -a_2 x_2^2 + b_2 \\cos(x_1)\n",
    "$$\n",
    "\n",
    "\n",
    "\n",
    "### Параметри:\n",
    " $( a_1, a_2 )$, $( b_1, b_2 )$ — це коефіцієнти, які можуть бути варійовані для дослідження динаміки системи та впливу на прогнозування."
   ]
  },
  {
   "cell_type": "code",
   "execution_count": 4,
   "metadata": {
    "id": "eZ_jQFiqHjwp"
   },
   "outputs": [],
   "source": [
    "import pandas as pd\n",
    "import numpy as np\n",
    "import matplotlib.pyplot as plt\n",
    "import sklearn\n",
    "import seaborn as sns\n",
    "import plotly.express as px\n",
    "from scipy.integrate import solve_ivp\n",
    "from sklearn.model_selection import train_test_split\n",
    "from sklearn.linear_model import LinearRegression\n",
    "from sklearn.tree import DecisionTreeRegressor\n",
    "from sklearn.ensemble import RandomForestRegressor\n",
    "from sklearn.neighbors import KNeighborsRegressor\n",
    "from sklearn.svm import SVR\n",
    "from sklearn.metrics import mean_squared_error, r2_score\n",
    "from sklearn.preprocessing import StandardScaler\n",
    "from xgboost import XGBRegressor\n",
    "from sklearn.model_selection import GridSearchCV"
   ]
  },
  {
   "cell_type": "markdown",
   "metadata": {},
   "source": [
    "Завдання 1."
   ]
  },
  {
   "cell_type": "code",
   "execution_count": 5,
   "metadata": {
    "id": "ouS8zTbVNbrh"
   },
   "outputs": [],
   "source": [
    "def new_system(t, state, a1=1.0, b1=0.5, a2=0.5, b2=1.0):\n",
    "    x1, x2 = state\n",
    "    dx1_dt = a1 * np.sin(x1 * x2) - b1 * x1\n",
    "    dx2_dt = -a2 * x2**2 + b2 * np.cos(x1)\n",
    "    return [dx1_dt, dx2_dt]\n",
    "\n",
    "def generate_new_system_data():\n",
    "    t_span = (0, 100)\n",
    "    initial_state = [1.0, 1.0]\n",
    "    t_eval = np.linspace(t_span[0], t_span[1], 10000)\n",
    "    sol = solve_ivp(new_system, t_span, initial_state, t_eval=t_eval)\n",
    "    return sol.t, sol.y.T\n",
    "\n",
    "def visualize_data(data, title):\n",
    "    plt.figure(figsize=(12, 6))\n",
    "    sns.lineplot(x=range(len(data)), y=data[:, 0], label='x1')\n",
    "    sns.lineplot(x=range(len(data)), y=data[:, 1], label='x2')\n",
    "    plt.title(title)\n",
    "    plt.xlabel('Time steps')\n",
    "    plt.ylabel('Values')\n",
    "    plt.legend()\n",
    "    plt.show()"
   ]
  },
  {
   "cell_type": "code",
   "execution_count": 6,
   "metadata": {
    "id": "82VC6GNgNjiu"
   },
   "outputs": [
    {
     "data": {
      "image/png": "[encoded data removed]",
      "text/plain": [
       "<Figure size 1200x600 with 1 Axes>"
      ]
     },
     "metadata": {},
     "output_type": "display_data"
    },
    {
     "name": "stdout",
     "output_type": "stream",
     "text": [
      "\n",
      "New System Model Evaluation:\n",
      "Mean Squared Error: 0.0016441763160021038\n",
      "R2 Score: 0.5109681253035088\n"
     ]
    }
   ],
   "source": [
    "def train_and_evaluate_model(X, y):\n",
    "    X_train, X_test, y_train, y_test = train_test_split(X, y, test_size=0.2, random_state=42)\n",
    "    model = LinearRegression()\n",
    "    model.fit(X_train, y_train)\n",
    "    y_pred = model.predict(X_test)\n",
    "    mse = mean_squared_error(y_test, y_pred)\n",
    "    r2 = r2_score(y_test, y_pred)\n",
    "    print(f'Mean Squared Error: {mse}')\n",
    "    print(f'R2 Score: {r2}')\n",
    "    return model\n",
    "\n",
    "t, new_system_data = generate_new_system_data()\n",
    "visualize_data(new_system_data, 'New System Data')\n",
    "\n",
    "X_new_system = new_system_data[:, :1] \n",
    "y_new_system = new_system_data[:, 1]   \n",
    "print(\"\\nNew System Model Evaluation:\")\n",
    "new_system_model = train_and_evaluate_model(X_new_system, y_new_system)"
   ]
  },
  {
   "cell_type": "markdown",
   "metadata": {},
   "source": [
    "Завдання 2."
   ]
  },
  {
   "cell_type": "code",
   "execution_count": 7,
   "metadata": {
    "id": "Ymd0pctkNlRX"
   },
   "outputs": [
    {
     "name": "stdout",
     "output_type": "stream",
     "text": [
      "Train set size: (7000, 1) (7000,)\n",
      "Validation set size: (1500, 1) (1500,)\n",
      "Test set size: (1500, 1) (1500,)\n"
     ]
    }
   ],
   "source": [
    "def prepare_data(data):\n",
    "    X = data[:, :1]\n",
    "    y = data[:, 1]\n",
    "\n",
    "    X_train, X_temp, y_train, y_temp = train_test_split(X, y, test_size=0.3, random_state=42)\n",
    "    X_val, X_test, y_val, y_test = train_test_split(X_temp, y_temp, test_size=0.5, random_state=42)\n",
    "\n",
    "    scaler = StandardScaler()\n",
    "    X_train = scaler.fit_transform(X_train)\n",
    "    X_val = scaler.transform(X_val)\n",
    "    X_test = scaler.transform(X_test)\n",
    "\n",
    "    return X_train, X_val, X_test, y_train, y_val, y_test\n",
    "\n",
    "t, new_system_data = generate_new_system_data()\n",
    "\n",
    "X_train, X_val, X_test, y_train, y_val, y_test = prepare_data(new_system_data)\n",
    "\n",
    "print(\"Train set size:\", X_train.shape, y_train.shape)\n",
    "print(\"Validation set size:\", X_val.shape, y_val.shape)\n",
    "print(\"Test set size:\", X_test.shape, y_test.shape)"
   ]
  },
  {
   "cell_type": "markdown",
   "metadata": {},
   "source": [
    "Завдання 3."
   ]
  },
  {
   "cell_type": "code",
   "execution_count": 8,
   "metadata": {
    "id": "zqk_-odlNmAe"
   },
   "outputs": [
    {
     "name": "stdout",
     "output_type": "stream",
     "text": [
      "Linear Regression training completed.\n",
      "Decision Tree training completed.\n",
      "Random Forest training completed.\n",
      "Support Vector Machine training completed.\n"
     ]
    }
   ],
   "source": [
    "def train_model(model, X_train, y_train):\n",
    "    model.fit(X_train, y_train)\n",
    "    return model\n",
    "\n",
    "models_with_params = {\n",
    "    \"Linear Regression\": LinearRegression(),\n",
    "    \"Decision Tree\": DecisionTreeRegressor(random_state=42),\n",
    "    \"Random Forest\": RandomForestRegressor(random_state=42, n_estimators=100),\n",
    "    \"Support Vector Machine\": SVR(kernel='rbf')\n",
    "}\n",
    "\n",
    "trained_models = {}\n",
    "for model_name, model in models_with_params.items():\n",
    "    print(f\"{model_name} training completed.\")"
   ]
  },
  {
   "cell_type": "markdown",
   "metadata": {},
   "source": [
    "Завдання 4."
   ]
  },
  {
   "cell_type": "code",
   "execution_count": 9,
   "metadata": {
    "id": "Tx8hInVMNmo7"
   },
   "outputs": [
    {
     "name": "stdout",
     "output_type": "stream",
     "text": [
      "\n",
      "Tuning hyperparameters for Linear Regression...\n",
      "Best parameters: {'fit_intercept': True}\n",
      "Best score: 0.0016987465553915306\n",
      "\n",
      "Tuning hyperparameters for Decision Tree...\n",
      "Best parameters: {'max_depth': 10, 'min_samples_leaf': 2, 'min_samples_split': 10}\n",
      "Best score: 0.0013429797654049564\n",
      "\n",
      "Tuning hyperparameters for Random Forest...\n",
      "Best parameters: {'max_depth': 10, 'min_samples_leaf': 2, 'min_samples_split': 10, 'n_estimators': 50}\n",
      "Best score: 0.0011825094933174427\n",
      "\n",
      "Tuning hyperparameters for Support Vector Machine...\n",
      "Best parameters: {'C': 1, 'gamma': 'scale', 'kernel': 'rbf'}\n",
      "Best score: 0.0014155059941715039\n"
     ]
    }
   ],
   "source": [
    "param_grids = {\n",
    "    \"Linear Regression\": {\n",
    "        'fit_intercept': [True, False],\n",
    "    },\n",
    "    \"Decision Tree\": {\n",
    "        'max_depth': [10, 20],\n",
    "        'min_samples_split': [5, 10],\n",
    "        'min_samples_leaf': [1, 2]\n",
    "    },\n",
    "    \"Random Forest\": {\n",
    "        'n_estimators': [50, 100],\n",
    "        'max_depth': [10, 20],\n",
    "        'min_samples_split': [5, 10],\n",
    "        'min_samples_leaf': [1, 2]\n",
    "    },\n",
    "    \"Support Vector Machine\": {\n",
    "        'C': [0.1, 1],\n",
    "        'kernel': ['linear', 'rbf'],\n",
    "        'gamma': ['scale']\n",
    "    }\n",
    "}\n",
    "\n",
    "def grid_search(model, param_grid, X_train, y_train):\n",
    "    grid_search = GridSearchCV(\n",
    "        estimator=model,\n",
    "        param_grid=param_grid,\n",
    "        cv=3,\n",
    "        scoring='neg_mean_squared_error',\n",
    "        n_jobs=2\n",
    "    )\n",
    "    grid_search.fit(X_train, y_train)\n",
    "    print(f\"Best parameters: {grid_search.best_params_}\")\n",
    "    print(f\"Best score: {-grid_search.best_score_}\")\n",
    "    return grid_search.best_estimator_\n",
    "\n",
    "best_models = {}\n",
    "for model_name, model in models_with_params.items():\n",
    "    print(f\"\\nTuning hyperparameters for {model_name}...\")\n",
    "    best_model = grid_search(model, param_grids[model_name], X_train, y_train)\n",
    "    best_models[model_name] = best_model"
   ]
  },
  {
   "cell_type": "markdown",
   "metadata": {},
   "source": [
    "Завдання 5."
   ]
  },
  {
   "cell_type": "code",
   "execution_count": 10,
   "metadata": {
    "id": "OT5yLyrgNnRv"
   },
   "outputs": [
    {
     "name": "stdout",
     "output_type": "stream",
     "text": [
      "Model: Linear Regression \n",
      "Mean Squared Error (Validation): 0.0018930470050830136 \n",
      "R² (Validation): 0.4320027827120423\n",
      "\n",
      "Model: Decision Tree \n",
      "Mean Squared Error (Validation): 0.0011416242392586651 \n",
      "R² (Validation): 0.6574626042849009\n",
      "\n",
      "Model: Random Forest \n",
      "Mean Squared Error (Validation): 0.000876993713901322 \n",
      "R² (Validation): 0.7368633807098\n",
      "\n",
      "Model: Support Vector Machine \n",
      "Mean Squared Error (Validation): 0.0010292998050257793 \n",
      "R² (Validation): 0.6911648662500894\n",
      "\n",
      "Model: Linear Regression \n",
      "Mean Squared Error (Test): 0.001956358911339186 \n",
      "R² (Test): 0.4649784210438641\n",
      "\n",
      "Model: Decision Tree \n",
      "Mean Squared Error (Test): 0.0010783069826764277 \n",
      "R² (Test): 0.7051065113220704\n",
      "\n",
      "Model: Random Forest \n",
      "Mean Squared Error (Test): 0.0009001186609046542 \n",
      "R² (Test): 0.7538371387715187\n",
      "\n",
      "Model: Support Vector Machine \n",
      "Mean Squared Error (Test): 0.0011024915346366097 \n",
      "R² (Test): 0.6984925627765931\n",
      "\n"
     ]
    }
   ],
   "source": [
    "validation_results = {}\n",
    "for model_name, model in best_models.items():\n",
    "    y_val_pred = model.predict(X_val)\n",
    "\n",
    "    mse_val = mean_squared_error(y_val, y_val_pred)\n",
    "    r2_val = r2_score(y_val, y_val_pred)\n",
    "\n",
    "    validation_results[model_name] = {\n",
    "        \"MSE\": mse_val,\n",
    "        \"R²\": r2_val\n",
    "    }\n",
    "\n",
    "    print(f\"Model: {model_name} \\nMean Squared Error (Validation): {mse_val} \\nR² (Validation): {r2_val}\\n\")\n",
    "\n",
    "test_results = {}\n",
    "for model_name, model in best_models.items():\n",
    "    y_test_pred = model.predict(X_test)\n",
    "\n",
    "    mse_test = mean_squared_error(y_test, y_test_pred)\n",
    "    r2_test = r2_score(y_test, y_test_pred)\n",
    "\n",
    "    test_results[model_name] = {\n",
    "        \"MSE\": mse_test,\n",
    "        \"R²\": r2_test\n",
    "    }\n",
    "\n",
    "    print(f\"Model: {model_name} \\nMean Squared Error (Test): {mse_test} \\nR² (Test): {r2_test}\\n\")"
   ]
  },
  {
   "cell_type": "markdown",
   "metadata": {},
   "source": [
    "Завдання 6."
   ]
  },
  {
   "cell_type": "code",
   "execution_count": 11,
   "metadata": {},
   "outputs": [
    {
     "name": "stdout",
     "output_type": "stream",
     "text": [
      "                    Model  Validation MSE  Validation R²  Test MSE   Test R²\n",
      "0       Linear Regression        0.001893       0.432003  0.001956  0.464978\n",
      "1           Decision Tree        0.001142       0.657463  0.001078  0.705107\n",
      "2           Random Forest        0.000877       0.736863  0.000900  0.753837\n",
      "3  Support Vector Machine        0.001029       0.691165  0.001102  0.698493\n"
     ]
    }
   ],
   "source": [
    "results = {\n",
    "    \"Model\": [],\n",
    "    \"Validation MSE\": [],\n",
    "    \"Validation R²\": [],\n",
    "    \"Test MSE\": [],\n",
    "    \"Test R²\": []\n",
    "}\n",
    "\n",
    "for model_name in best_models.keys():\n",
    "    results[\"Model\"].append(model_name)\n",
    "    results[\"Validation MSE\"].append(validation_results[model_name][\"MSE\"])\n",
    "    results[\"Validation R²\"].append(validation_results[model_name][\"R²\"])\n",
    "    results[\"Test MSE\"].append(test_results[model_name][\"MSE\"])\n",
    "    results[\"Test R²\"].append(test_results[model_name][\"R²\"])\n",
    "\n",
    "results_df = pd.DataFrame(results)\n",
    "\n",
    "print(results_df)"
   ]
  }
 ],
 "metadata": {
  "colab": {
   "provenance": []
  },
  "kernelspec": {
   "display_name": "Python 3",
   "name": "python3"
  },
  "language_info": {
   "codemirror_mode": {
    "name": "ipython",
    "version": 3
   },
   "file_extension": ".py",
   "mimetype": "text/x-python",
   "name": "python",
   "nbconvert_exporter": "python",
   "pygments_lexer": "ipython3",
   "version": "3.12.4"
  }
 },
 "nbformat": 4,
 "nbformat_minor": 0
}
